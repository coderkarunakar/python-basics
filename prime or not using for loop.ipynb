{
 "cells": [
  {
   "cell_type": "code",
   "execution_count": 3,
   "id": "a3972b52",
   "metadata": {},
   "outputs": [
    {
     "name": "stdout",
     "output_type": "stream",
     "text": [
      "enter a no7\n",
      "it is a prime\n"
     ]
    }
   ],
   "source": [
    "num=int(input(\"enter a no\"))\n",
    "flag=False\n",
    "for i in range (2,num,1):\n",
    "    if(num%i==0):\n",
    "        flag=True\n",
    "if not(flag):\n",
    "    print(\"it is a prime\")\n",
    "    \n",
    "else:\n",
    "    print(\"it is not a prime\")"
   ]
  },
  {
   "cell_type": "code",
   "execution_count": 10,
   "id": "15ba53de",
   "metadata": {},
   "outputs": [
    {
     "name": "stdout",
     "output_type": "stream",
     "text": [
      "enter a no1\n",
      "enter a no10\n",
      "1\n",
      "2\n",
      "3\n",
      "5\n",
      "7\n"
     ]
    }
   ],
   "source": [
    "a =int(input(\"enter a no\"))\n",
    "b =int(input(\"enter a no\"))\n",
    "\n",
    "for d in range(a,b+1):\n",
    "    flag=False\n",
    "    for i in range(2,d):\n",
    "        if(d%i==0):\n",
    "            flag=True\n",
    "    if not(flag):\n",
    "        print(d)"
   ]
  },
  {
   "cell_type": "code",
   "execution_count": null,
   "id": "adde34a9",
   "metadata": {},
   "outputs": [],
   "source": [
    "\n",
    "i=1\n",
    "while(i<10):\n",
    "    if i==5:\n",
    "        break\n",
    "    print(i)\n",
    "    i=i+1"
   ]
  },
  {
   "cell_type": "code",
   "execution_count": null,
   "id": "68b2d1b5",
   "metadata": {},
   "outputs": [],
   "source": []
  }
 ],
 "metadata": {
  "kernelspec": {
   "display_name": "Python 3 (ipykernel)",
   "language": "python",
   "name": "python3"
  },
  "language_info": {
   "codemirror_mode": {
    "name": "ipython",
    "version": 3
   },
   "file_extension": ".py",
   "mimetype": "text/x-python",
   "name": "python",
   "nbconvert_exporter": "python",
   "pygments_lexer": "ipython3",
   "version": "3.10.7"
  }
 },
 "nbformat": 4,
 "nbformat_minor": 5
}
