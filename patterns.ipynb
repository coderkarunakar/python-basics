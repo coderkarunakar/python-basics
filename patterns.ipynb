{
 "cells": [
  {
   "cell_type": "markdown",
   "id": "09fdd956",
   "metadata": {},
   "source": [
    "# patterns printing"
   ]
  },
  {
   "cell_type": "code",
   "execution_count": 1,
   "id": "d7b56079",
   "metadata": {},
   "outputs": [],
   "source": [
    "# 4 4 4 4\n",
    "# 4 4 4 4\n",
    "# 4 4 4 4\n",
    "# 4 4 4 4"
   ]
  },
  {
   "cell_type": "code",
   "execution_count": 3,
   "id": "c9d0daa2",
   "metadata": {},
   "outputs": [
    {
     "name": "stdout",
     "output_type": "stream",
     "text": [
      "please enter the number4\n",
      "4 4 4 4 \n",
      "4 4 4 4 \n",
      "4 4 4 4 \n",
      "4 4 4 4 \n"
     ]
    }
   ],
   "source": [
    "n=int(input(\"please enter the number\"))\n",
    "i=1\n",
    "while(i<=n):\n",
    "    j=1\n",
    "    while(j<=n):\n",
    "        print(n,end=\" \")\n",
    "        j=j+1\n",
    "    print()\n",
    "    i=i+1\n",
    "    "
   ]
  },
  {
   "cell_type": "markdown",
   "id": "e08bcb48",
   "metadata": {},
   "source": [
    "# square patterns "
   ]
  },
  {
   "cell_type": "code",
   "execution_count": 4,
   "id": "a3b7c83e",
   "metadata": {},
   "outputs": [],
   "source": [
    "#1 1 1 1\n",
    "#2 2 2 2\n",
    "#3 3 3 3\n",
    "#4 4 4 4 \n"
   ]
  },
  {
   "cell_type": "code",
   "execution_count": 12,
   "id": "89694aa2",
   "metadata": {},
   "outputs": [
    {
     "name": "stdout",
     "output_type": "stream",
     "text": [
      "please enter the number4\n",
      "1 1 1 1 \n",
      "2 2 2 2 \n",
      "3 3 3 3 \n",
      "4 4 4 4 \n"
     ]
    }
   ],
   "source": [
    "n=int(input(\"please enter the number\"))\n",
    "i=1\n",
    "while(i<=n):\n",
    "    j=1\n",
    "    while(j<=n):\n",
    "        print(i,end=\" \")\n",
    "        j=j+1\n",
    "    print()\n",
    "    i=i+1\n",
    "    "
   ]
  },
  {
   "cell_type": "code",
   "execution_count": null,
   "id": "1a0d14b7",
   "metadata": {},
   "outputs": [],
   "source": []
  },
  {
   "cell_type": "code",
   "execution_count": null,
   "id": "c9476d0b",
   "metadata": {},
   "outputs": [],
   "source": []
  },
  {
   "cell_type": "markdown",
   "id": "ea4a450b",
   "metadata": {},
   "source": [
    "# 1 2 3 4 \n",
    "# 1 2 3 4 \n",
    "# 1 2 3 4 \n",
    "# 1 2 3 4 "
   ]
  },
  {
   "cell_type": "code",
   "execution_count": 17,
   "id": "789785e1",
   "metadata": {},
   "outputs": [
    {
     "name": "stdout",
     "output_type": "stream",
     "text": [
      "enter the number4\n",
      "1 2 3 4 \n",
      "1 2 3 4 \n",
      "1 2 3 4 \n",
      "1 2 3 4 \n"
     ]
    }
   ],
   "source": [
    "n=int(input(\"enter the number\"))\n",
    "i=1\n",
    "while(i<=n):\n",
    "    j=1\n",
    "    while(j<=n):\n",
    "        print(j,end=\" \")\n",
    "        j=j+1\n",
    "    print()\n",
    "    i=i+1\n",
    "    "
   ]
  },
  {
   "cell_type": "markdown",
   "id": "426d19a4",
   "metadata": {},
   "source": [
    "# 4 3 2 1\n",
    "# 4 3 2 1\n",
    "# 4 3 2 1\n",
    "# 4 3 2 1"
   ]
  },
  {
   "cell_type": "code",
   "execution_count": 20,
   "id": "fdfb7bd2",
   "metadata": {},
   "outputs": [
    {
     "name": "stdout",
     "output_type": "stream",
     "text": [
      "please enter the no4\n",
      "4 3 2 1 \n",
      "4 3 2 1 \n",
      "4 3 2 1 \n",
      "4 3 2 1 \n"
     ]
    }
   ],
   "source": [
    "n=int(input(\"please enter the no\"))\n",
    "i=1\n",
    "while((i<=n)):\n",
    "    j=1\n",
    "    while(j<=n):\n",
    "        print(n+1-j,end=\" \")\n",
    "        j=j+1\n",
    "    print()\n",
    "    i=i+1"
   ]
  },
  {
   "cell_type": "code",
   "execution_count": null,
   "id": "28992fd2",
   "metadata": {},
   "outputs": [],
   "source": []
  }
 ],
 "metadata": {
  "kernelspec": {
   "display_name": "Python 3 (ipykernel)",
   "language": "python",
   "name": "python3"
  },
  "language_info": {
   "codemirror_mode": {
    "name": "ipython",
    "version": 3
   },
   "file_extension": ".py",
   "mimetype": "text/x-python",
   "name": "python",
   "nbconvert_exporter": "python",
   "pygments_lexer": "ipython3",
   "version": "3.10.7"
  }
 },
 "nbformat": 4,
 "nbformat_minor": 5
}
