{
 "cells": [
  {
   "cell_type": "markdown",
   "id": "82813ab2",
   "metadata": {},
   "source": [
    "# 1\n",
    "# 2 3\n",
    "# 3 4 5\n",
    "# 4 5 6 7\n"
   ]
  },
  {
   "cell_type": "markdown",
   "id": "ca53f4f5",
   "metadata": {},
   "source": [
    "# another approach"
   ]
  },
  {
   "cell_type": "markdown",
   "id": "af454bc0",
   "metadata": {},
   "source": [
    "n=int(input('please enter the no'))\n",
    "i=1\n",
    "while(i<=n):\n",
    "    p=i\n",
    "    j=1\n",
    "    while j<=i:\n",
    "        print(p,end=\" \")\n",
    "        p=p+1\n",
    "        j=j+1\n",
    "    print()\n",
    "    i=i+1\n",
    "    \n",
    "    "
   ]
  },
  {
   "cell_type": "code",
   "execution_count": 2,
   "id": "e4d0e065",
   "metadata": {},
   "outputs": [
    {
     "name": "stdout",
     "output_type": "stream",
     "text": [
      "please enter the no4\n",
      "1 \n",
      "2 3 \n",
      "3 4 5 \n",
      "4 5 6 7 \n"
     ]
    }
   ],
   "source": [
    "n=int(input('please enter the no'))\n",
    "i=1\n",
    "while(i<=n):\n",
    "  \n",
    "    j=1\n",
    "    while j<=i:\n",
    "        print(i+j-1,end=\" \")\n",
    "      \n",
    "        j=j+1\n",
    "    print()\n",
    "    i=i+1\n",
    "    "
   ]
  },
  {
   "cell_type": "markdown",
   "id": "105ae459",
   "metadata": {},
   "source": [
    "# 1\n",
    "# 2 3\n",
    "# 4 5 6\n",
    "# 7 8 9 10"
   ]
  },
  {
   "cell_type": "markdown",
   "id": "89c01404",
   "metadata": {},
   "source": [
    "# 1\n",
    "# 1 2\n",
    "# 1 2 3 \n",
    "# 1 2 3 4 "
   ]
  },
  {
   "cell_type": "code",
   "execution_count": 4,
   "id": "3d5231c2",
   "metadata": {},
   "outputs": [
    {
     "name": "stdout",
     "output_type": "stream",
     "text": [
      "enter4\n",
      "1 \n",
      "1 2 \n",
      "1 2 3 \n",
      "1 2 3 4 \n"
     ]
    }
   ],
   "source": [
    "n=int(input('enter'))\n",
    "i=1\n",
    "\n",
    "while i<=n:\n",
    "    p=1\n",
    "    j=1\n",
    "    while j<=i:\n",
    "        print(p,end=\" \")\n",
    "        p=p+1\n",
    "        j=j+1\n",
    "    print()\n",
    "    i=i+1"
   ]
  },
  {
   "cell_type": "markdown",
   "id": "6c210e01",
   "metadata": {},
   "source": [
    "# 1\n",
    "# 2 1\n",
    "# 3 2 1\n",
    "# 4 3 2 1\n",
    "\n"
   ]
  },
  {
   "cell_type": "code",
   "execution_count": 8,
   "id": "de6c74e7",
   "metadata": {},
   "outputs": [
    {
     "name": "stdout",
     "output_type": "stream",
     "text": [
      "enter4\n",
      "1 \n",
      "2 1 \n",
      "3 2 1 \n",
      "4 3 2 1 \n"
     ]
    }
   ],
   "source": [
    "n=int(input(\"enter\"))\n",
    "i=1\n",
    "\n",
    "while i<=n:\n",
    "    value=i\n",
    "    j=1\n",
    "    while j<=i:\n",
    "        print(value,end=\" \")\n",
    "        j=j+1\n",
    "        value=value-1\n",
    "    print()\n",
    "    i=i+1\n",
    "    \n",
    "    \n"
   ]
  },
  {
   "cell_type": "markdown",
   "id": "0181701e",
   "metadata": {},
   "source": [
    "# A B C D\n",
    "# A B C D\n",
    "# A B C D\n",
    "# A B C D\n"
   ]
  },
  {
   "cell_type": "code",
   "execution_count": 15,
   "id": "4813eb43",
   "metadata": {},
   "outputs": [
    {
     "name": "stdout",
     "output_type": "stream",
     "text": [
      "enter4\n",
      "A B C D \n",
      "A B C D \n",
      "A B C D \n",
      "A B C D \n"
     ]
    }
   ],
   "source": [
    "n=int(input(\"enter\"))\n",
    "i=1\n",
    "while i<=n:\n",
    "    j=1\n",
    "    while j<=n:\n",
    "        x=chr(ord('A')+j-1)\n",
    "        print(x,end=\" \")\n",
    "        j=j+1\n",
    "    print()\n",
    "    i=i+1\n",
    "        "
   ]
  },
  {
   "cell_type": "markdown",
   "id": "f9a711c3",
   "metadata": {},
   "source": [
    "# A B C D\n",
    "# B C D E\n",
    "# C D E F\n",
    "# D E F G "
   ]
  },
  {
   "cell_type": "code",
   "execution_count": null,
   "id": "48703044",
   "metadata": {},
   "outputs": [],
   "source": [
    "n=int(input(\"enter\"))\n",
    "i=1\n",
    "while i<=n:\n",
    "    start_char=chr(ord('A')+i-1)\n",
    "    j=1\n",
    "    while j<=n:\n",
    "        x=chr(ord('A')+j-1)\n",
    "        print(x,end=\" \")\n",
    "        j=j+1\n",
    "    print()\n",
    "    i=i+1"
   ]
  },
  {
   "cell_type": "code",
   "execution_count": null,
   "id": "ec41d681",
   "metadata": {},
   "outputs": [],
   "source": [
    "\n"
   ]
  },
  {
   "cell_type": "code",
   "execution_count": null,
   "id": "86eee41e",
   "metadata": {},
   "outputs": [],
   "source": []
  },
  {
   "cell_type": "code",
   "execution_count": null,
   "id": "df650544",
   "metadata": {},
   "outputs": [],
   "source": []
  }
 ],
 "metadata": {
  "kernelspec": {
   "display_name": "Python 3.10.7 64-bit",
   "language": "python",
   "name": "python3"
  },
  "language_info": {
   "codemirror_mode": {
    "name": "ipython",
    "version": 3
   },
   "file_extension": ".py",
   "mimetype": "text/x-python",
   "name": "python",
   "nbconvert_exporter": "python",
   "pygments_lexer": "ipython3",
   "version": "3.10.7"
  },
  "vscode": {
   "interpreter": {
    "hash": "3196968d684371006099b3d55edeef8ed90365227a30deaef86e5d4aa8519be0"
   }
  }
 },
 "nbformat": 4,
 "nbformat_minor": 5
}
