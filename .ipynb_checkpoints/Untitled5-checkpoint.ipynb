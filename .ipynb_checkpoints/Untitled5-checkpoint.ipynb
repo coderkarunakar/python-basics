{
 "cells": [
  {
   "cell_type": "code",
   "execution_count": 2,
   "metadata": {},
   "outputs": [
    {
     "name": "stderr",
     "output_type": "stream",
     "text": [
      "<>:19: SyntaxWarning: 'int' object is not callable; perhaps you missed a comma?\n",
      "<>:19: SyntaxWarning: 'int' object is not callable; perhaps you missed a comma?\n"
     ]
    }
   ],
   "source": [
    "n=int(input(\" enter a number\"))\n",
    "i=1\n",
    "while i<=n:\n",
    "    \n",
    "    #spacing\n",
    "    space=1\n",
    "    while space<=n-i:\n",
    "        print(\" \",end=\" \")\n",
    "        space=space+1\n",
    "    \n",
    "    #increasing no\n",
    "    j=1\n",
    "    while j<=i-1:\n",
    "        print(i,end=\" \")\n",
    "        j=j+1\n",
    "    #decreasing no\n",
    "    p=1\n",
    "    while p<=i-1:\n",
    "        print(2(i)-2,end=\" \")\n",
    "        p=p+1\n",
    "    print()\n",
    "    i=i+1\n",
    "\n",
    "\n",
    "\n",
    "\n"
   ]
  }
 ],
 "metadata": {
  "kernelspec": {
   "display_name": "Python 3.10.7 64-bit",
   "language": "python",
   "name": "python3"
  },
  "language_info": {
   "codemirror_mode": {
    "name": "ipython",
    "version": 3
   },
   "file_extension": ".py",
   "mimetype": "text/x-python",
   "name": "python",
   "nbconvert_exporter": "python",
   "pygments_lexer": "ipython3",
   "version": "3.10.7"
  },
  "vscode": {
   "interpreter": {
    "hash": "3196968d684371006099b3d55edeef8ed90365227a30deaef86e5d4aa8519be0"
   }
  }
 },
 "nbformat": 4,
 "nbformat_minor": 5
}
