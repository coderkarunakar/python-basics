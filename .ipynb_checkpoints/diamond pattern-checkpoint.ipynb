{
 "cells": [
  {
   "cell_type": "markdown",
   "id": "30e4f778",
   "metadata": {},
   "source": [
    "   *\n",
    "  ***\n",
    " *****\n",
    "*******\n",
    " *****\n",
    "  ***\n",
    "   *"
   ]
  },
  {
   "cell_type": "code",
   "execution_count": 6,
   "id": "2533fe1f",
   "metadata": {},
   "outputs": [
    {
     "name": "stdout",
     "output_type": "stream",
     "text": [
      "enter the grid size7\n",
      "4.0\n",
      "3.0\n",
      "   *\n",
      "  ***\n",
      " *****\n",
      "*******\n",
      " *****\n",
      "  ***\n",
      "   *\n"
     ]
    }
   ],
   "source": [
    "N=int(input(\"enter the grid size\"))\n",
    "n1=(N+1)/2\n",
    "n2=n1-1\n",
    "print(n1)\n",
    "print(n2)\n",
    "i=1\n",
    "while  i<=n1:\n",
    "    space=1\n",
    "    while space<=n1-i:\n",
    "        print(\" \",end=\"\")\n",
    "        space=space+1\n",
    "    j=1\n",
    "    while (j<=(2*i)-1):\n",
    "        print(\"*\",end='')\n",
    "        j=j+1\n",
    "    print()\n",
    "    i=i+1\n",
    "    \n",
    "row=n2\n",
    "while row>=1:\n",
    "    spa=1\n",
    "    while  spa<=(n2-row)+1:\n",
    "        print(\" \",end=\"\")\n",
    "        spa=spa+1\n",
    "    star=1\n",
    "    while star<=(2*row)-1:\n",
    "        print(\"*\",end=\"\")\n",
    "        star=star+1\n",
    "    print()\n",
    "    row=row-1\n"
   ]
  },
  {
   "cell_type": "code",
   "execution_count": null,
   "id": "f563470d",
   "metadata": {},
   "outputs": [],
   "source": [
    "n=int(input())\n",
    "i=1\n",
    "while i<=n:\n",
    "    space=1\n",
    "    while space<=n-i:\n",
    "        print(\" \",end=\"\")\n",
    "        space=space+1\n",
    "    star=1\n",
    "    while star<=(2*i):\n",
    "        print(\"*\",end=\"\")\n",
    "        star=star+1\n",
    "    print()\n",
    "    i=i+1"
   ]
  }
 ],
 "metadata": {
  "kernelspec": {
   "display_name": "Python 3 (ipykernel)",
   "language": "python",
   "name": "python3"
  },
  "language_info": {
   "codemirror_mode": {
    "name": "ipython",
    "version": 3
   },
   "file_extension": ".py",
   "mimetype": "text/x-python",
   "name": "python",
   "nbconvert_exporter": "python",
   "pygments_lexer": "ipython3",
   "version": "3.10.7"
  }
 },
 "nbformat": 4,
 "nbformat_minor": 5
}
