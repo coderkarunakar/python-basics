{
 "cells": [
  {
   "cell_type": "code",
   "execution_count": null,
   "id": "fdc1cef5",
   "metadata": {},
   "outputs": [],
   "source": [
    "# * * * *\n",
    "# * * * \n",
    "# * *\n",
    "# *"
   ]
  },
  {
   "cell_type": "code",
   "execution_count": 1,
   "id": "2229f44a",
   "metadata": {},
   "outputs": [
    {
     "name": "stdout",
     "output_type": "stream",
     "text": [
      "enter a no4\n",
      "* * * * \n",
      "* * * \n",
      "* * \n",
      "* \n"
     ]
    }
   ],
   "source": [
    "n=int(input(\"enter a no\"))\n",
    "i=1\n",
    "while i<=n:\n",
    "    j=1\n",
    "    while j<=n+1-i:\n",
    "        print(\"*\",end=\" \")\n",
    "        j=j+1\n",
    "    print()\n",
    "    i=i+1"
   ]
  },
  {
   "cell_type": "raw",
   "id": "f5fe85be",
   "metadata": {},
   "source": [
    "   1\n",
    "  12\n",
    " 123\n",
    "1234"
   ]
  },
  {
   "cell_type": "code",
   "execution_count": 2,
   "id": "347cf80c",
   "metadata": {},
   "outputs": [
    {
     "name": "stdout",
     "output_type": "stream",
     "text": [
      "enter the no4\n",
      "      1 \n",
      "    1 2 \n",
      "  1 2 3 \n",
      "1 2 3 4 \n"
     ]
    }
   ],
   "source": [
    "n=int(input(\"enter the no\"))\n",
    "i=1\n",
    "while i<=n:\n",
    "    space=1\n",
    "    while space<=n-i:\n",
    "        print(\" \",end=\" \")\n",
    "        space=space+1\n",
    "    j=1\n",
    "    while j<=i:\n",
    "        print(j,end=\" \") \n",
    "        j=j+1\n",
    "    print()\n",
    "    i=i+1"
   ]
  },
  {
   "cell_type": "raw",
   "id": "cd4dccc4",
   "metadata": {},
   "source": [
    "   1\n",
    "  121\n",
    " 12321\n",
    "1234321"
   ]
  },
  {
   "cell_type": "code",
   "execution_count": null,
   "id": "407dc77e",
   "metadata": {},
   "outputs": [],
   "source": [
    "n=int(input(\"enter the number\"))\n",
    "i=1\n",
    "while i<=n:\n",
    "    space=1\n",
    "    \n",
    "    #spacing\n",
    "    while space<=n-i:\n",
    "        print(' ',end=\" \")\n",
    "        space=space+1\n",
    "    #increasing seq\n",
    "    j=1\n",
    "    while j<=i:\n",
    "        print(j)\n",
    "        j=j+1\n",
    "    #decreasing seq\n",
    "    p=i=1\n",
    "    while p>=1:\n",
    "        print(p,end=\" \")\n",
    "        p=p+1\n",
    "    i=i+1\n",
    "    print()"
   ]
  }
 ],
 "metadata": {
  "kernelspec": {
   "display_name": "Python 3 (ipykernel)",
   "language": "python",
   "name": "python3"
  },
  "language_info": {
   "codemirror_mode": {
    "name": "ipython",
    "version": 3
   },
   "file_extension": ".py",
   "mimetype": "text/x-python",
   "name": "python",
   "nbconvert_exporter": "python",
   "pygments_lexer": "ipython3",
   "version": "3.10.7"
  }
 },
 "nbformat": 4,
 "nbformat_minor": 5
}
