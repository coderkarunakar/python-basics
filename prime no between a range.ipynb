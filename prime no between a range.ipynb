{
 "cells": [
  {
   "cell_type": "code",
   "execution_count": null,
   "id": "0bc380eb",
   "metadata": {},
   "outputs": [],
   "source": [
    "n=int(input(\"enter a no\"))\n",
    "k=2\n",
    "while k<=n:\n",
    "    d=2\n",
    "    while d<k:\n",
    "        if k%d ==0:\n",
    "            flag=True\n",
    "            break\n",
    "        d=d+1\n",
    "    if not (flag):\n",
    "        print(k)\n",
    "    k=k+2\n",
    "    "
   ]
  },
  {
   "cell_type": "code",
   "execution_count": null,
   "id": "c0ec7b22",
   "metadata": {},
   "outputs": [],
   "source": []
  }
 ],
 "metadata": {
  "kernelspec": {
   "display_name": "Python 3 (ipykernel)",
   "language": "python",
   "name": "python3"
  },
  "language_info": {
   "codemirror_mode": {
    "name": "ipython",
    "version": 3
   },
   "file_extension": ".py",
   "mimetype": "text/x-python",
   "name": "python",
   "nbconvert_exporter": "python",
   "pygments_lexer": "ipython3",
   "version": "3.10.7"
  }
 },
 "nbformat": 4,
 "nbformat_minor": 5
}
